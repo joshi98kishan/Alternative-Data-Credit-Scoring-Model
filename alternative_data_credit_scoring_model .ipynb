{
  "nbformat": 4,
  "nbformat_minor": 0,
  "metadata": {
    "colab": {
      "name": "alternative_data_credit_scoring_model.ipynb",
      "provenance": [],
      "collapsed_sections": []
    },
    "kernelspec": {
      "name": "python3",
      "display_name": "Python 3"
    }
  },
  "cells": [
    {
      "cell_type": "markdown",
      "metadata": {
        "id": "_azq0KRaGlAd",
        "colab_type": "text"
      },
      "source": [
        "#Alternative Data Credit Scoring Model"
      ]
    },
    {
      "cell_type": "code",
      "metadata": {
        "id": "LiJXZPfcluoW",
        "colab_type": "code",
        "colab": {}
      },
      "source": [
        "import numpy as np\n",
        "import pandas as pd\n",
        "from pandas._libs.interval import Interval\n",
        "from sklearn.model_selection import train_test_split\n",
        "from sklearn.linear_model import LogisticRegression"
      ],
      "execution_count": 0,
      "outputs": []
    },
    {
      "cell_type": "markdown",
      "metadata": {
        "id": "ozZLl4YGdl1b",
        "colab_type": "text"
      },
      "source": [
        "This credit scoring model is built on the alternative data. Over 2.5 billion peoples dont have bank accounts and credit history, so traditional approach to calculate the credit score is impossible for them. But, there is a alternative way to calculate the credit score. We can collect the data from this peoples which is not related to the credit or financial data, and feed it to this model to get a credit score. This alternative data of this peoples could be like married status, childrens, education, job, income, relatives, phone call history, SMS history, digital payment history, neighbors, home address, office address, assets, health, and many more\n",
        "\n",
        "\n",
        "We are using some of this features, like"
      ]
    },
    {
      "cell_type": "markdown",
      "metadata": {
        "id": "hfCSYH5u-hc_",
        "colab_type": "text"
      },
      "source": [
        "FEATURES :\n",
        "1. **Age** \n",
        "2. **Marital Status** :\n",
        "      \n",
        "    1 - Married, 0 - Not Married\n",
        "3. **Dependents** : Number of dependents (0, 1, 2, 3, 4, 5+)\n",
        "4. **Total years of work experience** : Number of work experience (0, 1, 2, 3, 4, 5, 6, 7, 8, 9, 10+)\n",
        "5. **Working Status** :\n",
        "\n",
        "  Unemployed - 0, Student - 1, Part-Time - 2, Full-Time - 3\n",
        "6. **Highest education qualification** :\n",
        "\n",
        "  High School - 0, Bachelor's  - 1, Master's - 2, Doctorate - 3\n",
        "7. **Area of study** :\n",
        "\n",
        "  Life Sciences - 0, Mathematical Sciences - 1, Humanities - 2, Social      Science - 3, Business - 4, Law - 5, Engineering & Technology - 6,         Sport - 7\n",
        "8. **Annual Income**\n",
        "  \n",
        "  \n",
        "  **Target** -\n",
        "\n",
        "  1 - Good User, 0 - Bad User"
      ]
    },
    {
      "cell_type": "code",
      "metadata": {
        "id": "hqWD_3MOVHGm",
        "colab_type": "code",
        "colab": {}
      },
      "source": [
        "#Generating random \"alternative data\" for credit scoing model\n",
        "\n",
        "rand_age_data = np.random.randint(21, 100 + 1, 1000)\n",
        "rand_maritalstatus_data = np.random.randint(0, 1 + 1, 1000)\n",
        "rand_dependents_data = np.random.randint(0, 20 + 1, 1000)\n",
        "rand_workexp_data = np.random.randint(0, 50 + 1, 1000)\n",
        "rand_working_status_data = np.random.randint(0, 3 + 1, 1000)\n",
        "rand_edu_quali_data = np.random.randint(0, 3 + 1, 1000)\n",
        "rand_area_study_data = np.random.randint(0, 7 + 1, 1000)\n",
        "rand_annualinc_data = np.random.randint(0, 100 + 1, 1000) #In thousands\n",
        "\n",
        "rand_target_data = np.random.randint(0, 1 + 1, 1000)"
      ],
      "execution_count": 0,
      "outputs": []
    },
    {
      "cell_type": "code",
      "metadata": {
        "id": "VowxvcR6xexg",
        "colab_type": "code",
        "outputId": "f0e25fcd-8ea9-4c6c-daf6-29f189a38807",
        "colab": {
          "base_uri": "https://localhost:8080/",
          "height": 195
        }
      },
      "source": [
        "df_orig = pd.DataFrame({'age':rand_age_data,\n",
        "                        'marital_status': rand_maritalstatus_data,\n",
        "                        'dependents' : rand_dependents_data,\n",
        "                        'work_exp': rand_workexp_data,\n",
        "                        'work_status': rand_working_status_data,\n",
        "                        'education_quali': rand_edu_quali_data, \n",
        "                        'area_study': rand_area_study_data,\n",
        "                        'annual_income': rand_annualinc_data,\n",
        "                        'target' : rand_target_data})\n",
        "df_orig.head()"
      ],
      "execution_count": 0,
      "outputs": [
        {
          "output_type": "execute_result",
          "data": {
            "text/html": [
              "<div>\n",
              "<style scoped>\n",
              "    .dataframe tbody tr th:only-of-type {\n",
              "        vertical-align: middle;\n",
              "    }\n",
              "\n",
              "    .dataframe tbody tr th {\n",
              "        vertical-align: top;\n",
              "    }\n",
              "\n",
              "    .dataframe thead th {\n",
              "        text-align: right;\n",
              "    }\n",
              "</style>\n",
              "<table border=\"1\" class=\"dataframe\">\n",
              "  <thead>\n",
              "    <tr style=\"text-align: right;\">\n",
              "      <th></th>\n",
              "      <th>age</th>\n",
              "      <th>marital_status</th>\n",
              "      <th>dependents</th>\n",
              "      <th>work_exp</th>\n",
              "      <th>work_status</th>\n",
              "      <th>education_quali</th>\n",
              "      <th>area_study</th>\n",
              "      <th>annual_income</th>\n",
              "      <th>target</th>\n",
              "    </tr>\n",
              "  </thead>\n",
              "  <tbody>\n",
              "    <tr>\n",
              "      <th>0</th>\n",
              "      <td>80</td>\n",
              "      <td>1</td>\n",
              "      <td>0</td>\n",
              "      <td>26</td>\n",
              "      <td>0</td>\n",
              "      <td>2</td>\n",
              "      <td>1</td>\n",
              "      <td>54</td>\n",
              "      <td>1</td>\n",
              "    </tr>\n",
              "    <tr>\n",
              "      <th>1</th>\n",
              "      <td>66</td>\n",
              "      <td>1</td>\n",
              "      <td>1</td>\n",
              "      <td>37</td>\n",
              "      <td>3</td>\n",
              "      <td>0</td>\n",
              "      <td>7</td>\n",
              "      <td>70</td>\n",
              "      <td>0</td>\n",
              "    </tr>\n",
              "    <tr>\n",
              "      <th>2</th>\n",
              "      <td>92</td>\n",
              "      <td>1</td>\n",
              "      <td>16</td>\n",
              "      <td>34</td>\n",
              "      <td>0</td>\n",
              "      <td>2</td>\n",
              "      <td>6</td>\n",
              "      <td>54</td>\n",
              "      <td>1</td>\n",
              "    </tr>\n",
              "    <tr>\n",
              "      <th>3</th>\n",
              "      <td>79</td>\n",
              "      <td>0</td>\n",
              "      <td>1</td>\n",
              "      <td>28</td>\n",
              "      <td>0</td>\n",
              "      <td>1</td>\n",
              "      <td>7</td>\n",
              "      <td>42</td>\n",
              "      <td>0</td>\n",
              "    </tr>\n",
              "    <tr>\n",
              "      <th>4</th>\n",
              "      <td>100</td>\n",
              "      <td>1</td>\n",
              "      <td>17</td>\n",
              "      <td>35</td>\n",
              "      <td>3</td>\n",
              "      <td>2</td>\n",
              "      <td>5</td>\n",
              "      <td>40</td>\n",
              "      <td>1</td>\n",
              "    </tr>\n",
              "  </tbody>\n",
              "</table>\n",
              "</div>"
            ],
            "text/plain": [
              "   age  marital_status  dependents  ...  area_study  annual_income  target\n",
              "0   80               1           0  ...           1             54       1\n",
              "1   66               1           1  ...           7             70       0\n",
              "2   92               1          16  ...           6             54       1\n",
              "3   79               0           1  ...           7             42       0\n",
              "4  100               1          17  ...           5             40       1\n",
              "\n",
              "[5 rows x 9 columns]"
            ]
          },
          "metadata": {
            "tags": []
          },
          "execution_count": 115
        }
      ]
    },
    {
      "cell_type": "markdown",
      "metadata": {
        "id": "hRMmVgnzGtWM",
        "colab_type": "text"
      },
      "source": [
        "##Data Transformations\n",
        "\n",
        "Transforming the data in a manner suited to our model."
      ]
    },
    {
      "cell_type": "code",
      "metadata": {
        "id": "rpYQQZKnULpu",
        "colab_type": "code",
        "outputId": "e35a710c-c17d-4a7d-d033-61f3a3b5bb88",
        "colab": {
          "base_uri": "https://localhost:8080/",
          "height": 195
        }
      },
      "source": [
        "# Continous values from original dataframe \"df_orig\" are replced with the ranges they lie in.\n",
        "df_ranges = pd.DataFrame()\n",
        "\n",
        "df_ranges['age_range'] = pd.cut(df_orig.age, [0, 25, 30, 35, 42, 51, 91, np.inf], right = False)\n",
        "df_ranges['marital_status'] = df_orig.marital_status\n",
        "df_ranges['dependents_range'] = pd.cut(df_orig.dependents, [0, 2, 6, np.inf], right = False)\n",
        "df_ranges['work_exp_range'] = pd.cut(df_orig.work_exp, [0, 3, 6, 11, np.inf], right = False)\n",
        "df_ranges['work_status'] = df_orig.work_status\n",
        "df_ranges['education_quali'] = df_orig.education_quali\n",
        "df_ranges['area_study'] = df_orig.area_study\n",
        "df_ranges['annual_income_range'] = pd.cut(df_orig.annual_income, [0, 15, 20, 25, 30, 40, 50, np.inf], right = False)\n",
        "df_ranges['target'] = df_orig.target\n",
        "\n",
        "df_ranges.head()"
      ],
      "execution_count": 0,
      "outputs": [
        {
          "output_type": "execute_result",
          "data": {
            "text/html": [
              "<div>\n",
              "<style scoped>\n",
              "    .dataframe tbody tr th:only-of-type {\n",
              "        vertical-align: middle;\n",
              "    }\n",
              "\n",
              "    .dataframe tbody tr th {\n",
              "        vertical-align: top;\n",
              "    }\n",
              "\n",
              "    .dataframe thead th {\n",
              "        text-align: right;\n",
              "    }\n",
              "</style>\n",
              "<table border=\"1\" class=\"dataframe\">\n",
              "  <thead>\n",
              "    <tr style=\"text-align: right;\">\n",
              "      <th></th>\n",
              "      <th>age_range</th>\n",
              "      <th>marital_status</th>\n",
              "      <th>dependents_range</th>\n",
              "      <th>work_exp_range</th>\n",
              "      <th>work_status</th>\n",
              "      <th>education_quali</th>\n",
              "      <th>area_study</th>\n",
              "      <th>annual_income_range</th>\n",
              "      <th>target</th>\n",
              "    </tr>\n",
              "  </thead>\n",
              "  <tbody>\n",
              "    <tr>\n",
              "      <th>0</th>\n",
              "      <td>[30.0, 35.0)</td>\n",
              "      <td>1</td>\n",
              "      <td>[6.0, inf)</td>\n",
              "      <td>[6.0, 11.0)</td>\n",
              "      <td>2</td>\n",
              "      <td>0</td>\n",
              "      <td>1</td>\n",
              "      <td>[50.0, inf)</td>\n",
              "      <td>1</td>\n",
              "    </tr>\n",
              "    <tr>\n",
              "      <th>1</th>\n",
              "      <td>[51.0, 91.0)</td>\n",
              "      <td>0</td>\n",
              "      <td>[6.0, inf)</td>\n",
              "      <td>[11.0, inf)</td>\n",
              "      <td>3</td>\n",
              "      <td>1</td>\n",
              "      <td>0</td>\n",
              "      <td>[50.0, inf)</td>\n",
              "      <td>0</td>\n",
              "    </tr>\n",
              "    <tr>\n",
              "      <th>2</th>\n",
              "      <td>[91.0, inf)</td>\n",
              "      <td>1</td>\n",
              "      <td>[6.0, inf)</td>\n",
              "      <td>[11.0, inf)</td>\n",
              "      <td>2</td>\n",
              "      <td>0</td>\n",
              "      <td>7</td>\n",
              "      <td>[50.0, inf)</td>\n",
              "      <td>1</td>\n",
              "    </tr>\n",
              "    <tr>\n",
              "      <th>3</th>\n",
              "      <td>[91.0, inf)</td>\n",
              "      <td>1</td>\n",
              "      <td>[6.0, inf)</td>\n",
              "      <td>[11.0, inf)</td>\n",
              "      <td>0</td>\n",
              "      <td>0</td>\n",
              "      <td>0</td>\n",
              "      <td>[50.0, inf)</td>\n",
              "      <td>0</td>\n",
              "    </tr>\n",
              "    <tr>\n",
              "      <th>4</th>\n",
              "      <td>[42.0, 51.0)</td>\n",
              "      <td>1</td>\n",
              "      <td>[6.0, inf)</td>\n",
              "      <td>[11.0, inf)</td>\n",
              "      <td>3</td>\n",
              "      <td>2</td>\n",
              "      <td>6</td>\n",
              "      <td>[40.0, 50.0)</td>\n",
              "      <td>0</td>\n",
              "    </tr>\n",
              "  </tbody>\n",
              "</table>\n",
              "</div>"
            ],
            "text/plain": [
              "      age_range  marital_status  ... annual_income_range target\n",
              "0  [30.0, 35.0)               1  ...         [50.0, inf)      1\n",
              "1  [51.0, 91.0)               0  ...         [50.0, inf)      0\n",
              "2   [91.0, inf)               1  ...         [50.0, inf)      1\n",
              "3   [91.0, inf)               1  ...         [50.0, inf)      0\n",
              "4  [42.0, 51.0)               1  ...        [40.0, 50.0)      0\n",
              "\n",
              "[5 rows x 9 columns]"
            ]
          },
          "metadata": {
            "tags": []
          },
          "execution_count": 29
        }
      ]
    },
    {
      "cell_type": "markdown",
      "metadata": {
        "id": "3u0oJlZunRrz",
        "colab_type": "text"
      },
      "source": [
        "### Weight Of Evidence (woe) calculation\n",
        "\n",
        "![alt text](https://github.com/joshi98kishan/Alternative-Data-Credit-Scoring-Model/blob/master/images/woe-formula.PNG?raw=true)"
      ]
    },
    {
      "cell_type": "code",
      "metadata": {
        "id": "Jve4W4ztl9fk",
        "colab_type": "code",
        "colab": {}
      },
      "source": [
        "# \"df_dict\" is a dictionary of dataframes having woe values for every feature\n",
        "df_dict = {}\n",
        "\n",
        "# Iterating over names of columns of \"df_ranges\" dataframe\n",
        "for name in df_ranges.columns:\n",
        "  if name != 'target':\n",
        "    \n",
        "    # Getting the unique values of each column of \"df_ranges\" per interation\n",
        "    try:\n",
        "      unique_ranges = list(df_ranges[name].unique().categories) # If the dtype is \"Interval\" \n",
        "    except:\n",
        "      unique_ranges = list(df_ranges[name].unique()) \n",
        "\n",
        "    len_df = len(unique_ranges)\n",
        "    num_of_goods = 0\n",
        "    num_of_bads = 0\n",
        "    df = pd.DataFrame({('unique_' + name) : unique_ranges, # Column of unique values (groups)\n",
        "                       '#B' : np.zeros(len_df),            # Number of bads in each group\n",
        "                       '#G' : np.zeros(len_df),            # Number of goods in each group\n",
        "                       '%B' : np.zeros(len_df),            # Percentage of bads with respect to all the group (#B / num_of_bads)\n",
        "                       '%G' : np.zeros(len_df),            # Percentage of goods with respect to all the group (#G / num_of_goods)\n",
        "                       '%G/%B' : np.zeros(len_df),         # Division of % of goods to % of bads of each group \n",
        "                       'woe' : np.zeros(len_df)})          # Natural log of the divided value in the previous column (Weight Of Evidence)\n",
        "\n",
        "    #Calculating number of goods and bads in each groups and storing them to the dataframes\n",
        "    for i, interval in enumerate(df['unique_' + name]):\n",
        "      value_counts = df_ranges[df_ranges[name] == interval].target.value_counts()\n",
        "      df.iloc[i, 1] = value_counts[0]\n",
        "      df.iloc[i, 2] = value_counts[1]\n",
        "\n",
        "    #Calculating the total number of bads and goods in \"#B\" and \"#G\" columns\n",
        "    for num in df['#B']:\n",
        "      num_of_bads += num\n",
        "\n",
        "    for num in df['#G']:\n",
        "      num_of_goods += num\n",
        "\n",
        "    #Calculating % of bads and goods, dividing them and taking a natural log\n",
        "    for i in range(len(df)):\n",
        "      df.iloc[i, 3] = (df.iloc[i, 1] / num_of_bads) * 100\n",
        "      df.iloc[i, 4] = (df.iloc[i, 2] / num_of_goods) * 100\n",
        "      df.iloc[i, 5] = df.iloc[i, 4] / df.iloc[i, 3]\n",
        "      df.iloc[i, 6] = np.log(df.iloc[i, 5])\n",
        "\n",
        "    #Saving dataframes in each interation\n",
        "    df_dict['df_' + name] = df"
      ],
      "execution_count": 0,
      "outputs": []
    },
    {
      "cell_type": "markdown",
      "metadata": {
        "id": "AfSGeEdCr15j",
        "colab_type": "text"
      },
      "source": [
        "**INFORMATION VALUE =**\n",
        "\n",
        "![alt text](https://github.com/joshi98kishan/Alternative-Data-Credit-Scoring-Model/blob/master/images/iv_formula.PNG?raw=true)"
      ]
    },
    {
      "cell_type": "code",
      "metadata": {
        "id": "np--AODlZDLe",
        "colab_type": "code",
        "colab": {}
      },
      "source": [
        "#Calculating Information Value of each feature.\n",
        "\n",
        "def iv_of_feature(df):\n",
        "  iv = 0\n",
        "  for i in range(len(df)):\n",
        "    iv += ((df.iloc[i, 4] - df.iloc[i, 3]) / 100) * df.iloc[i, 6]\n",
        "\n",
        "  return iv"
      ],
      "execution_count": 0,
      "outputs": []
    },
    {
      "cell_type": "markdown",
      "metadata": {
        "id": "Lthjb2iob0mP",
        "colab_type": "text"
      },
      "source": [
        "Printing each dataframes in the dictionary along with the Information Value (IV)."
      ]
    },
    {
      "cell_type": "code",
      "metadata": {
        "id": "0Uw9j5qHuECZ",
        "colab_type": "code",
        "outputId": "83218c01-61b7-4398-e40e-cdd2aafcec39",
        "colab": {
          "base_uri": "https://localhost:8080/",
          "height": 106
        }
      },
      "source": [
        "df_dict['df_marital_status']"
      ],
      "execution_count": 0,
      "outputs": [
        {
          "output_type": "execute_result",
          "data": {
            "text/html": [
              "<div>\n",
              "<style scoped>\n",
              "    .dataframe tbody tr th:only-of-type {\n",
              "        vertical-align: middle;\n",
              "    }\n",
              "\n",
              "    .dataframe tbody tr th {\n",
              "        vertical-align: top;\n",
              "    }\n",
              "\n",
              "    .dataframe thead th {\n",
              "        text-align: right;\n",
              "    }\n",
              "</style>\n",
              "<table border=\"1\" class=\"dataframe\">\n",
              "  <thead>\n",
              "    <tr style=\"text-align: right;\">\n",
              "      <th></th>\n",
              "      <th>unique_marital_status</th>\n",
              "      <th>#B</th>\n",
              "      <th>#G</th>\n",
              "      <th>%B</th>\n",
              "      <th>%G</th>\n",
              "      <th>%G/%B</th>\n",
              "      <th>woe</th>\n",
              "    </tr>\n",
              "  </thead>\n",
              "  <tbody>\n",
              "    <tr>\n",
              "      <th>0</th>\n",
              "      <td>1</td>\n",
              "      <td>258.0</td>\n",
              "      <td>265.0</td>\n",
              "      <td>49.425287</td>\n",
              "      <td>55.439331</td>\n",
              "      <td>1.121679</td>\n",
              "      <td>0.114827</td>\n",
              "    </tr>\n",
              "    <tr>\n",
              "      <th>1</th>\n",
              "      <td>0</td>\n",
              "      <td>264.0</td>\n",
              "      <td>213.0</td>\n",
              "      <td>50.574713</td>\n",
              "      <td>44.560669</td>\n",
              "      <td>0.881086</td>\n",
              "      <td>-0.126600</td>\n",
              "    </tr>\n",
              "  </tbody>\n",
              "</table>\n",
              "</div>"
            ],
            "text/plain": [
              "   unique_marital_status     #B     #G  ...         %G     %G/%B       woe\n",
              "0                      1  258.0  265.0  ...  55.439331  1.121679  0.114827\n",
              "1                      0  264.0  213.0  ...  44.560669  0.881086 -0.126600\n",
              "\n",
              "[2 rows x 7 columns]"
            ]
          },
          "metadata": {
            "tags": []
          },
          "execution_count": 100
        }
      ]
    },
    {
      "cell_type": "code",
      "metadata": {
        "id": "YP8VIc_4aY7W",
        "colab_type": "code",
        "outputId": "99a34460-0580-44dd-8c1e-e38ff2b784d5",
        "colab": {
          "base_uri": "https://localhost:8080/",
          "height": 34
        }
      },
      "source": [
        "iv_of_feature(df_dict['df_marital_status'])"
      ],
      "execution_count": 0,
      "outputs": [
        {
          "output_type": "execute_result",
          "data": {
            "text/plain": [
              "0.014519534781711193"
            ]
          },
          "metadata": {
            "tags": []
          },
          "execution_count": 101
        }
      ]
    },
    {
      "cell_type": "code",
      "metadata": {
        "id": "VHAsaiXtw675",
        "colab_type": "code",
        "outputId": "28f733fe-3708-4f1d-d96a-41b1e81c3663",
        "colab": {
          "base_uri": "https://localhost:8080/",
          "height": 136
        }
      },
      "source": [
        "df_dict['df_dependents_range']"
      ],
      "execution_count": 0,
      "outputs": [
        {
          "output_type": "execute_result",
          "data": {
            "text/html": [
              "<div>\n",
              "<style scoped>\n",
              "    .dataframe tbody tr th:only-of-type {\n",
              "        vertical-align: middle;\n",
              "    }\n",
              "\n",
              "    .dataframe tbody tr th {\n",
              "        vertical-align: top;\n",
              "    }\n",
              "\n",
              "    .dataframe thead th {\n",
              "        text-align: right;\n",
              "    }\n",
              "</style>\n",
              "<table border=\"1\" class=\"dataframe\">\n",
              "  <thead>\n",
              "    <tr style=\"text-align: right;\">\n",
              "      <th></th>\n",
              "      <th>unique_dependents_range</th>\n",
              "      <th>#B</th>\n",
              "      <th>#G</th>\n",
              "      <th>%B</th>\n",
              "      <th>%G</th>\n",
              "      <th>%G/%B</th>\n",
              "      <th>woe</th>\n",
              "    </tr>\n",
              "  </thead>\n",
              "  <tbody>\n",
              "    <tr>\n",
              "      <th>0</th>\n",
              "      <td>[0.0, 2.0)</td>\n",
              "      <td>37.0</td>\n",
              "      <td>48.0</td>\n",
              "      <td>7.088123</td>\n",
              "      <td>10.041841</td>\n",
              "      <td>1.416714</td>\n",
              "      <td>0.348340</td>\n",
              "    </tr>\n",
              "    <tr>\n",
              "      <th>1</th>\n",
              "      <td>[2.0, 6.0)</td>\n",
              "      <td>101.0</td>\n",
              "      <td>88.0</td>\n",
              "      <td>19.348659</td>\n",
              "      <td>18.410042</td>\n",
              "      <td>0.951489</td>\n",
              "      <td>-0.049727</td>\n",
              "    </tr>\n",
              "    <tr>\n",
              "      <th>2</th>\n",
              "      <td>[6.0, inf)</td>\n",
              "      <td>384.0</td>\n",
              "      <td>342.0</td>\n",
              "      <td>73.563218</td>\n",
              "      <td>71.548117</td>\n",
              "      <td>0.972607</td>\n",
              "      <td>-0.027775</td>\n",
              "    </tr>\n",
              "  </tbody>\n",
              "</table>\n",
              "</div>"
            ],
            "text/plain": [
              "  unique_dependents_range     #B     #G  ...         %G     %G/%B       woe\n",
              "0              [0.0, 2.0)   37.0   48.0  ...  10.041841  1.416714  0.348340\n",
              "1              [2.0, 6.0)  101.0   88.0  ...  18.410042  0.951489 -0.049727\n",
              "2              [6.0, inf)  384.0  342.0  ...  71.548117  0.972607 -0.027775\n",
              "\n",
              "[3 rows x 7 columns]"
            ]
          },
          "metadata": {
            "tags": []
          },
          "execution_count": 33
        }
      ]
    },
    {
      "cell_type": "code",
      "metadata": {
        "id": "1YaZrGpZdBPL",
        "colab_type": "code",
        "outputId": "5c070990-b496-4041-dca4-e787b92c20d7",
        "colab": {
          "base_uri": "https://localhost:8080/",
          "height": 34
        }
      },
      "source": [
        "iv_of_feature(df_dict['df_dependents_range'])"
      ],
      "execution_count": 0,
      "outputs": [
        {
          "output_type": "execute_result",
          "data": {
            "text/plain": [
              "0.011315419586711081"
            ]
          },
          "metadata": {
            "tags": []
          },
          "execution_count": 102
        }
      ]
    },
    {
      "cell_type": "code",
      "metadata": {
        "id": "yzYT41qkw8iH",
        "colab_type": "code",
        "outputId": "cdf8d51c-08f0-48ad-ee07-54523ac0f4f5",
        "colab": {
          "base_uri": "https://localhost:8080/",
          "height": 166
        }
      },
      "source": [
        "df_dict['df_work_exp_range']"
      ],
      "execution_count": 0,
      "outputs": [
        {
          "output_type": "execute_result",
          "data": {
            "text/html": [
              "<div>\n",
              "<style scoped>\n",
              "    .dataframe tbody tr th:only-of-type {\n",
              "        vertical-align: middle;\n",
              "    }\n",
              "\n",
              "    .dataframe tbody tr th {\n",
              "        vertical-align: top;\n",
              "    }\n",
              "\n",
              "    .dataframe thead th {\n",
              "        text-align: right;\n",
              "    }\n",
              "</style>\n",
              "<table border=\"1\" class=\"dataframe\">\n",
              "  <thead>\n",
              "    <tr style=\"text-align: right;\">\n",
              "      <th></th>\n",
              "      <th>unique_work_exp_range</th>\n",
              "      <th>#B</th>\n",
              "      <th>#G</th>\n",
              "      <th>%B</th>\n",
              "      <th>%G</th>\n",
              "      <th>%G/%B</th>\n",
              "      <th>woe</th>\n",
              "    </tr>\n",
              "  </thead>\n",
              "  <tbody>\n",
              "    <tr>\n",
              "      <th>0</th>\n",
              "      <td>[0.0, 3.0)</td>\n",
              "      <td>22.0</td>\n",
              "      <td>24.0</td>\n",
              "      <td>4.214559</td>\n",
              "      <td>5.020921</td>\n",
              "      <td>1.191328</td>\n",
              "      <td>0.175068</td>\n",
              "    </tr>\n",
              "    <tr>\n",
              "      <th>1</th>\n",
              "      <td>[3.0, 6.0)</td>\n",
              "      <td>36.0</td>\n",
              "      <td>36.0</td>\n",
              "      <td>6.896552</td>\n",
              "      <td>7.531381</td>\n",
              "      <td>1.092050</td>\n",
              "      <td>0.088057</td>\n",
              "    </tr>\n",
              "    <tr>\n",
              "      <th>2</th>\n",
              "      <td>[6.0, 11.0)</td>\n",
              "      <td>63.0</td>\n",
              "      <td>51.0</td>\n",
              "      <td>12.068966</td>\n",
              "      <td>10.669456</td>\n",
              "      <td>0.884041</td>\n",
              "      <td>-0.123252</td>\n",
              "    </tr>\n",
              "    <tr>\n",
              "      <th>3</th>\n",
              "      <td>[11.0, inf)</td>\n",
              "      <td>401.0</td>\n",
              "      <td>367.0</td>\n",
              "      <td>76.819923</td>\n",
              "      <td>76.778243</td>\n",
              "      <td>0.999457</td>\n",
              "      <td>-0.000543</td>\n",
              "    </tr>\n",
              "  </tbody>\n",
              "</table>\n",
              "</div>"
            ],
            "text/plain": [
              "  unique_work_exp_range     #B     #G         %B         %G     %G/%B       woe\n",
              "0            [0.0, 3.0)   22.0   24.0   4.214559   5.020921  1.191328  0.175068\n",
              "1            [3.0, 6.0)   36.0   36.0   6.896552   7.531381  1.092050  0.088057\n",
              "2           [6.0, 11.0)   63.0   51.0  12.068966  10.669456  0.884041 -0.123252\n",
              "3           [11.0, inf)  401.0  367.0  76.819923  76.778243  0.999457 -0.000543"
            ]
          },
          "metadata": {
            "tags": []
          },
          "execution_count": 34
        }
      ]
    },
    {
      "cell_type": "code",
      "metadata": {
        "id": "BRPRXjrLdGgP",
        "colab_type": "code",
        "outputId": "8744f564-ed8c-4809-fbbb-bbce03d7971e",
        "colab": {
          "base_uri": "https://localhost:8080/",
          "height": 34
        }
      },
      "source": [
        "iv_of_feature(df_dict['df_work_exp_range'])"
      ],
      "execution_count": 0,
      "outputs": [
        {
          "output_type": "execute_result",
          "data": {
            "text/plain": [
              "0.0036958455643374753"
            ]
          },
          "metadata": {
            "tags": []
          },
          "execution_count": 103
        }
      ]
    },
    {
      "cell_type": "code",
      "metadata": {
        "id": "3b7BaMUv8rN7",
        "colab_type": "code",
        "outputId": "6c551941-d55e-4f46-9020-52015b2049cb",
        "colab": {
          "base_uri": "https://localhost:8080/",
          "height": 166
        }
      },
      "source": [
        "df_dict['df_work_status']"
      ],
      "execution_count": 0,
      "outputs": [
        {
          "output_type": "execute_result",
          "data": {
            "text/html": [
              "<div>\n",
              "<style scoped>\n",
              "    .dataframe tbody tr th:only-of-type {\n",
              "        vertical-align: middle;\n",
              "    }\n",
              "\n",
              "    .dataframe tbody tr th {\n",
              "        vertical-align: top;\n",
              "    }\n",
              "\n",
              "    .dataframe thead th {\n",
              "        text-align: right;\n",
              "    }\n",
              "</style>\n",
              "<table border=\"1\" class=\"dataframe\">\n",
              "  <thead>\n",
              "    <tr style=\"text-align: right;\">\n",
              "      <th></th>\n",
              "      <th>unique_work_status</th>\n",
              "      <th>#B</th>\n",
              "      <th>#G</th>\n",
              "      <th>%B</th>\n",
              "      <th>%G</th>\n",
              "      <th>%G/%B</th>\n",
              "      <th>woe</th>\n",
              "    </tr>\n",
              "  </thead>\n",
              "  <tbody>\n",
              "    <tr>\n",
              "      <th>0</th>\n",
              "      <td>2</td>\n",
              "      <td>127.0</td>\n",
              "      <td>129.0</td>\n",
              "      <td>24.329502</td>\n",
              "      <td>26.987448</td>\n",
              "      <td>1.109248</td>\n",
              "      <td>0.103682</td>\n",
              "    </tr>\n",
              "    <tr>\n",
              "      <th>1</th>\n",
              "      <td>3</td>\n",
              "      <td>137.0</td>\n",
              "      <td>120.0</td>\n",
              "      <td>26.245211</td>\n",
              "      <td>25.104603</td>\n",
              "      <td>0.956540</td>\n",
              "      <td>-0.044432</td>\n",
              "    </tr>\n",
              "    <tr>\n",
              "      <th>2</th>\n",
              "      <td>0</td>\n",
              "      <td>128.0</td>\n",
              "      <td>115.0</td>\n",
              "      <td>24.521073</td>\n",
              "      <td>24.058577</td>\n",
              "      <td>0.981139</td>\n",
              "      <td>-0.019041</td>\n",
              "    </tr>\n",
              "    <tr>\n",
              "      <th>3</th>\n",
              "      <td>1</td>\n",
              "      <td>130.0</td>\n",
              "      <td>114.0</td>\n",
              "      <td>24.904215</td>\n",
              "      <td>23.849372</td>\n",
              "      <td>0.957644</td>\n",
              "      <td>-0.043279</td>\n",
              "    </tr>\n",
              "  </tbody>\n",
              "</table>\n",
              "</div>"
            ],
            "text/plain": [
              "   unique_work_status     #B     #G         %B         %G     %G/%B       woe\n",
              "0                   2  127.0  129.0  24.329502  26.987448  1.109248  0.103682\n",
              "1                   3  137.0  120.0  26.245211  25.104603  0.956540 -0.044432\n",
              "2                   0  128.0  115.0  24.521073  24.058577  0.981139 -0.019041\n",
              "3                   1  130.0  114.0  24.904215  23.849372  0.957644 -0.043279"
            ]
          },
          "metadata": {
            "tags": []
          },
          "execution_count": 35
        }
      ]
    },
    {
      "cell_type": "code",
      "metadata": {
        "id": "PFVjkkOYdLxj",
        "colab_type": "code",
        "outputId": "d8285a72-2fd1-4875-f2b3-a7f584b83794",
        "colab": {
          "base_uri": "https://localhost:8080/",
          "height": 34
        }
      },
      "source": [
        "iv_of_feature(df_dict['df_work_status'])"
      ],
      "execution_count": 0,
      "outputs": [
        {
          "output_type": "execute_result",
          "data": {
            "text/plain": [
              "0.0038072064682793966"
            ]
          },
          "metadata": {
            "tags": []
          },
          "execution_count": 104
        }
      ]
    },
    {
      "cell_type": "code",
      "metadata": {
        "id": "mrXy4_lU805c",
        "colab_type": "code",
        "outputId": "c8cda866-cd91-4b1e-aa93-9609885dd322",
        "colab": {
          "base_uri": "https://localhost:8080/",
          "height": 166
        }
      },
      "source": [
        "df_dict['df_education_quali']"
      ],
      "execution_count": 0,
      "outputs": [
        {
          "output_type": "execute_result",
          "data": {
            "text/html": [
              "<div>\n",
              "<style scoped>\n",
              "    .dataframe tbody tr th:only-of-type {\n",
              "        vertical-align: middle;\n",
              "    }\n",
              "\n",
              "    .dataframe tbody tr th {\n",
              "        vertical-align: top;\n",
              "    }\n",
              "\n",
              "    .dataframe thead th {\n",
              "        text-align: right;\n",
              "    }\n",
              "</style>\n",
              "<table border=\"1\" class=\"dataframe\">\n",
              "  <thead>\n",
              "    <tr style=\"text-align: right;\">\n",
              "      <th></th>\n",
              "      <th>unique_education_quali</th>\n",
              "      <th>#B</th>\n",
              "      <th>#G</th>\n",
              "      <th>%B</th>\n",
              "      <th>%G</th>\n",
              "      <th>%G/%B</th>\n",
              "      <th>woe</th>\n",
              "    </tr>\n",
              "  </thead>\n",
              "  <tbody>\n",
              "    <tr>\n",
              "      <th>0</th>\n",
              "      <td>0</td>\n",
              "      <td>136.0</td>\n",
              "      <td>128.0</td>\n",
              "      <td>26.053640</td>\n",
              "      <td>26.778243</td>\n",
              "      <td>1.027812</td>\n",
              "      <td>0.027432</td>\n",
              "    </tr>\n",
              "    <tr>\n",
              "      <th>1</th>\n",
              "      <td>1</td>\n",
              "      <td>123.0</td>\n",
              "      <td>100.0</td>\n",
              "      <td>23.563218</td>\n",
              "      <td>20.920502</td>\n",
              "      <td>0.887846</td>\n",
              "      <td>-0.118957</td>\n",
              "    </tr>\n",
              "    <tr>\n",
              "      <th>2</th>\n",
              "      <td>2</td>\n",
              "      <td>140.0</td>\n",
              "      <td>129.0</td>\n",
              "      <td>26.819923</td>\n",
              "      <td>26.987448</td>\n",
              "      <td>1.006246</td>\n",
              "      <td>0.006227</td>\n",
              "    </tr>\n",
              "    <tr>\n",
              "      <th>3</th>\n",
              "      <td>3</td>\n",
              "      <td>123.0</td>\n",
              "      <td>121.0</td>\n",
              "      <td>23.563218</td>\n",
              "      <td>25.313808</td>\n",
              "      <td>1.074293</td>\n",
              "      <td>0.071663</td>\n",
              "    </tr>\n",
              "  </tbody>\n",
              "</table>\n",
              "</div>"
            ],
            "text/plain": [
              "   unique_education_quali     #B     #G  ...         %G     %G/%B       woe\n",
              "0                       0  136.0  128.0  ...  26.778243  1.027812  0.027432\n",
              "1                       1  123.0  100.0  ...  20.920502  0.887846 -0.118957\n",
              "2                       2  140.0  129.0  ...  26.987448  1.006246  0.006227\n",
              "3                       3  123.0  121.0  ...  25.313808  1.074293  0.071663\n",
              "\n",
              "[4 rows x 7 columns]"
            ]
          },
          "metadata": {
            "tags": []
          },
          "execution_count": 36
        }
      ]
    },
    {
      "cell_type": "code",
      "metadata": {
        "id": "kuZDKMOjdQqt",
        "colab_type": "code",
        "outputId": "470a533b-869c-480f-f01b-f93335673614",
        "colab": {
          "base_uri": "https://localhost:8080/",
          "height": 34
        }
      },
      "source": [
        "iv_of_feature(df_dict['df_education_quali'])"
      ],
      "execution_count": 0,
      "outputs": [
        {
          "output_type": "execute_result",
          "data": {
            "text/plain": [
              "0.004607436027943981"
            ]
          },
          "metadata": {
            "tags": []
          },
          "execution_count": 105
        }
      ]
    },
    {
      "cell_type": "code",
      "metadata": {
        "id": "fhfHor3-85VK",
        "colab_type": "code",
        "outputId": "9cf8db1a-902d-4d14-cad8-287d10976c07",
        "colab": {
          "base_uri": "https://localhost:8080/",
          "height": 284
        }
      },
      "source": [
        "df_dict['df_area_study']"
      ],
      "execution_count": 0,
      "outputs": [
        {
          "output_type": "execute_result",
          "data": {
            "text/html": [
              "<div>\n",
              "<style scoped>\n",
              "    .dataframe tbody tr th:only-of-type {\n",
              "        vertical-align: middle;\n",
              "    }\n",
              "\n",
              "    .dataframe tbody tr th {\n",
              "        vertical-align: top;\n",
              "    }\n",
              "\n",
              "    .dataframe thead th {\n",
              "        text-align: right;\n",
              "    }\n",
              "</style>\n",
              "<table border=\"1\" class=\"dataframe\">\n",
              "  <thead>\n",
              "    <tr style=\"text-align: right;\">\n",
              "      <th></th>\n",
              "      <th>unique_area_study</th>\n",
              "      <th>#B</th>\n",
              "      <th>#G</th>\n",
              "      <th>%B</th>\n",
              "      <th>%G</th>\n",
              "      <th>%G/%B</th>\n",
              "      <th>woe</th>\n",
              "    </tr>\n",
              "  </thead>\n",
              "  <tbody>\n",
              "    <tr>\n",
              "      <th>0</th>\n",
              "      <td>1</td>\n",
              "      <td>71.0</td>\n",
              "      <td>54.0</td>\n",
              "      <td>13.601533</td>\n",
              "      <td>11.297071</td>\n",
              "      <td>0.830573</td>\n",
              "      <td>-0.185639</td>\n",
              "    </tr>\n",
              "    <tr>\n",
              "      <th>1</th>\n",
              "      <td>0</td>\n",
              "      <td>73.0</td>\n",
              "      <td>60.0</td>\n",
              "      <td>13.984674</td>\n",
              "      <td>12.552301</td>\n",
              "      <td>0.897576</td>\n",
              "      <td>-0.108058</td>\n",
              "    </tr>\n",
              "    <tr>\n",
              "      <th>2</th>\n",
              "      <td>7</td>\n",
              "      <td>72.0</td>\n",
              "      <td>73.0</td>\n",
              "      <td>13.793103</td>\n",
              "      <td>15.271967</td>\n",
              "      <td>1.107218</td>\n",
              "      <td>0.101850</td>\n",
              "    </tr>\n",
              "    <tr>\n",
              "      <th>3</th>\n",
              "      <td>6</td>\n",
              "      <td>64.0</td>\n",
              "      <td>61.0</td>\n",
              "      <td>12.260536</td>\n",
              "      <td>12.761506</td>\n",
              "      <td>1.040860</td>\n",
              "      <td>0.040048</td>\n",
              "    </tr>\n",
              "    <tr>\n",
              "      <th>4</th>\n",
              "      <td>2</td>\n",
              "      <td>63.0</td>\n",
              "      <td>59.0</td>\n",
              "      <td>12.068966</td>\n",
              "      <td>12.343096</td>\n",
              "      <td>1.022714</td>\n",
              "      <td>0.022460</td>\n",
              "    </tr>\n",
              "    <tr>\n",
              "      <th>5</th>\n",
              "      <td>4</td>\n",
              "      <td>66.0</td>\n",
              "      <td>59.0</td>\n",
              "      <td>12.643678</td>\n",
              "      <td>12.343096</td>\n",
              "      <td>0.976227</td>\n",
              "      <td>-0.024060</td>\n",
              "    </tr>\n",
              "    <tr>\n",
              "      <th>6</th>\n",
              "      <td>3</td>\n",
              "      <td>56.0</td>\n",
              "      <td>58.0</td>\n",
              "      <td>10.727969</td>\n",
              "      <td>12.133891</td>\n",
              "      <td>1.131052</td>\n",
              "      <td>0.123148</td>\n",
              "    </tr>\n",
              "    <tr>\n",
              "      <th>7</th>\n",
              "      <td>5</td>\n",
              "      <td>57.0</td>\n",
              "      <td>54.0</td>\n",
              "      <td>10.919540</td>\n",
              "      <td>11.297071</td>\n",
              "      <td>1.034574</td>\n",
              "      <td>0.033990</td>\n",
              "    </tr>\n",
              "  </tbody>\n",
              "</table>\n",
              "</div>"
            ],
            "text/plain": [
              "   unique_area_study    #B    #G         %B         %G     %G/%B       woe\n",
              "0                  1  71.0  54.0  13.601533  11.297071  0.830573 -0.185639\n",
              "1                  0  73.0  60.0  13.984674  12.552301  0.897576 -0.108058\n",
              "2                  7  72.0  73.0  13.793103  15.271967  1.107218  0.101850\n",
              "3                  6  64.0  61.0  12.260536  12.761506  1.040860  0.040048\n",
              "4                  2  63.0  59.0  12.068966  12.343096  1.022714  0.022460\n",
              "5                  4  66.0  59.0  12.643678  12.343096  0.976227 -0.024060\n",
              "6                  3  56.0  58.0  10.727969  12.133891  1.131052  0.123148\n",
              "7                  5  57.0  54.0  10.919540  11.297071  1.034574  0.033990"
            ]
          },
          "metadata": {
            "tags": []
          },
          "execution_count": 37
        }
      ]
    },
    {
      "cell_type": "code",
      "metadata": {
        "id": "g-W7sWTndU-q",
        "colab_type": "code",
        "outputId": "d1880f54-dfc0-4769-9ca6-30769df4511d",
        "colab": {
          "base_uri": "https://localhost:8080/",
          "height": 34
        }
      },
      "source": [
        "iv_of_feature(df_dict['df_area_study'])"
      ],
      "execution_count": 0,
      "outputs": [
        {
          "output_type": "execute_result",
          "data": {
            "text/plain": [
              "0.009526202315853436"
            ]
          },
          "metadata": {
            "tags": []
          },
          "execution_count": 106
        }
      ]
    },
    {
      "cell_type": "code",
      "metadata": {
        "id": "tjyfiY7Hw-N6",
        "colab_type": "code",
        "outputId": "66a1b3b8-a369-4b17-8626-26e498917e53",
        "colab": {
          "base_uri": "https://localhost:8080/",
          "height": 254
        }
      },
      "source": [
        "df_dict['df_annual_income_range']"
      ],
      "execution_count": 0,
      "outputs": [
        {
          "output_type": "execute_result",
          "data": {
            "text/html": [
              "<div>\n",
              "<style scoped>\n",
              "    .dataframe tbody tr th:only-of-type {\n",
              "        vertical-align: middle;\n",
              "    }\n",
              "\n",
              "    .dataframe tbody tr th {\n",
              "        vertical-align: top;\n",
              "    }\n",
              "\n",
              "    .dataframe thead th {\n",
              "        text-align: right;\n",
              "    }\n",
              "</style>\n",
              "<table border=\"1\" class=\"dataframe\">\n",
              "  <thead>\n",
              "    <tr style=\"text-align: right;\">\n",
              "      <th></th>\n",
              "      <th>unique_annual_income_range</th>\n",
              "      <th>#B</th>\n",
              "      <th>#G</th>\n",
              "      <th>%B</th>\n",
              "      <th>%G</th>\n",
              "      <th>%G/%B</th>\n",
              "      <th>woe</th>\n",
              "    </tr>\n",
              "  </thead>\n",
              "  <tbody>\n",
              "    <tr>\n",
              "      <th>0</th>\n",
              "      <td>[0.0, 15.0)</td>\n",
              "      <td>64.0</td>\n",
              "      <td>73.0</td>\n",
              "      <td>12.260536</td>\n",
              "      <td>15.271967</td>\n",
              "      <td>1.245620</td>\n",
              "      <td>0.219633</td>\n",
              "    </tr>\n",
              "    <tr>\n",
              "      <th>1</th>\n",
              "      <td>[15.0, 20.0)</td>\n",
              "      <td>24.0</td>\n",
              "      <td>21.0</td>\n",
              "      <td>4.597701</td>\n",
              "      <td>4.393305</td>\n",
              "      <td>0.955544</td>\n",
              "      <td>-0.045475</td>\n",
              "    </tr>\n",
              "    <tr>\n",
              "      <th>2</th>\n",
              "      <td>[20.0, 25.0)</td>\n",
              "      <td>28.0</td>\n",
              "      <td>24.0</td>\n",
              "      <td>5.363985</td>\n",
              "      <td>5.020921</td>\n",
              "      <td>0.936043</td>\n",
              "      <td>-0.066094</td>\n",
              "    </tr>\n",
              "    <tr>\n",
              "      <th>3</th>\n",
              "      <td>[25.0, 30.0)</td>\n",
              "      <td>27.0</td>\n",
              "      <td>25.0</td>\n",
              "      <td>5.172414</td>\n",
              "      <td>5.230126</td>\n",
              "      <td>1.011158</td>\n",
              "      <td>0.011096</td>\n",
              "    </tr>\n",
              "    <tr>\n",
              "      <th>4</th>\n",
              "      <td>[30.0, 40.0)</td>\n",
              "      <td>49.0</td>\n",
              "      <td>49.0</td>\n",
              "      <td>9.386973</td>\n",
              "      <td>10.251046</td>\n",
              "      <td>1.092050</td>\n",
              "      <td>0.088057</td>\n",
              "    </tr>\n",
              "    <tr>\n",
              "      <th>5</th>\n",
              "      <td>[40.0, 50.0)</td>\n",
              "      <td>54.0</td>\n",
              "      <td>41.0</td>\n",
              "      <td>10.344828</td>\n",
              "      <td>8.577406</td>\n",
              "      <td>0.829149</td>\n",
              "      <td>-0.187355</td>\n",
              "    </tr>\n",
              "    <tr>\n",
              "      <th>6</th>\n",
              "      <td>[50.0, inf)</td>\n",
              "      <td>276.0</td>\n",
              "      <td>245.0</td>\n",
              "      <td>52.873563</td>\n",
              "      <td>51.255230</td>\n",
              "      <td>0.969392</td>\n",
              "      <td>-0.031086</td>\n",
              "    </tr>\n",
              "  </tbody>\n",
              "</table>\n",
              "</div>"
            ],
            "text/plain": [
              "  unique_annual_income_range     #B     #G  ...         %G     %G/%B       woe\n",
              "0                [0.0, 15.0)   64.0   73.0  ...  15.271967  1.245620  0.219633\n",
              "1               [15.0, 20.0)   24.0   21.0  ...   4.393305  0.955544 -0.045475\n",
              "2               [20.0, 25.0)   28.0   24.0  ...   5.020921  0.936043 -0.066094\n",
              "3               [25.0, 30.0)   27.0   25.0  ...   5.230126  1.011158  0.011096\n",
              "4               [30.0, 40.0)   49.0   49.0  ...  10.251046  1.092050  0.088057\n",
              "5               [40.0, 50.0)   54.0   41.0  ...   8.577406  0.829149 -0.187355\n",
              "6                [50.0, inf)  276.0  245.0  ...  51.255230  0.969392 -0.031086\n",
              "\n",
              "[7 rows x 7 columns]"
            ]
          },
          "metadata": {
            "tags": []
          },
          "execution_count": 38
        }
      ]
    },
    {
      "cell_type": "code",
      "metadata": {
        "id": "QAoaxZwFdY9j",
        "colab_type": "code",
        "outputId": "1d107d62-1b9f-421e-decd-b64d6783ea03",
        "colab": {
          "base_uri": "https://localhost:8080/",
          "height": 34
        }
      },
      "source": [
        "iv_of_feature(df_dict['df_annual_income_range'])"
      ],
      "execution_count": 0,
      "outputs": [
        {
          "output_type": "execute_result",
          "data": {
            "text/plain": [
              "0.011515498915661407"
            ]
          },
          "metadata": {
            "tags": []
          },
          "execution_count": 107
        }
      ]
    },
    {
      "cell_type": "code",
      "metadata": {
        "id": "6_jkm01Mqliv",
        "colab_type": "code",
        "colab": {}
      },
      "source": [
        "#Function that check whether a value lie in a interval or not\n",
        "\n",
        "def contains(interval, value):\n",
        "  \"\"\"For Left closed Right open interval\"\"\"\n",
        "\n",
        "  if value >= interval.left and value < interval.right:\n",
        "    return True\n",
        "  else:\n",
        "    return False"
      ],
      "execution_count": 0,
      "outputs": []
    },
    {
      "cell_type": "code",
      "metadata": {
        "id": "MElZsTEVHsEd",
        "colab_type": "code",
        "colab": {}
      },
      "source": [
        "#Function that return woe of a value \n",
        "\n",
        "def generate_woe(column, value):\n",
        "  key = 'df_' + column\n",
        "  try:                               #If given value is categorical\n",
        "    df = df_dict[key]\n",
        "    \n",
        "    for i, col_val in enumerate(df.iloc[:, 0]):\n",
        "      if value == col_val:\n",
        "        return df.iloc[i, 6]\n",
        "        \n",
        "  except:                            #If given value is continous\n",
        "    key = key = 'df_' + column + '_range'\n",
        "    df = df_dict[key]\n",
        "\n",
        "    for i, interval in enumerate(df.iloc[:, 0]):\n",
        "      if contains(interval, value):\n",
        "        return df.iloc[i, 6]"
      ],
      "execution_count": 0,
      "outputs": []
    },
    {
      "cell_type": "code",
      "metadata": {
        "id": "p8YeTJfaEiBX",
        "colab_type": "code",
        "outputId": "67b9f213-161f-4061-faf8-1e9ea5d92873",
        "colab": {
          "base_uri": "https://localhost:8080/",
          "height": 195
        }
      },
      "source": [
        "#Creating a final dataframe, replacing original values in \"df_orig\" with there woe values\n",
        "\n",
        "final_df = pd.DataFrame().reindex_like(df_orig)\n",
        "\n",
        "for i, column in enumerate(df_orig.columns):\n",
        "  if column != 'target':\n",
        "    for j in range(len(df_orig)):\n",
        "      final_df.iloc[j, i] = generate_woe(column, df_orig.iloc[j, i])\n",
        "\n",
        "final_df.target = df_orig.target\n",
        "\n",
        "final_df.head()"
      ],
      "execution_count": 0,
      "outputs": [
        {
          "output_type": "execute_result",
          "data": {
            "text/html": [
              "<div>\n",
              "<style scoped>\n",
              "    .dataframe tbody tr th:only-of-type {\n",
              "        vertical-align: middle;\n",
              "    }\n",
              "\n",
              "    .dataframe tbody tr th {\n",
              "        vertical-align: top;\n",
              "    }\n",
              "\n",
              "    .dataframe thead th {\n",
              "        text-align: right;\n",
              "    }\n",
              "</style>\n",
              "<table border=\"1\" class=\"dataframe\">\n",
              "  <thead>\n",
              "    <tr style=\"text-align: right;\">\n",
              "      <th></th>\n",
              "      <th>age</th>\n",
              "      <th>marital_status</th>\n",
              "      <th>dependents</th>\n",
              "      <th>work_exp</th>\n",
              "      <th>work_status</th>\n",
              "      <th>education_quali</th>\n",
              "      <th>area_study</th>\n",
              "      <th>annual_income</th>\n",
              "      <th>target</th>\n",
              "    </tr>\n",
              "  </thead>\n",
              "  <tbody>\n",
              "    <tr>\n",
              "      <th>0</th>\n",
              "      <td>-0.071008</td>\n",
              "      <td>0.114827</td>\n",
              "      <td>-0.027775</td>\n",
              "      <td>-0.123252</td>\n",
              "      <td>0.103682</td>\n",
              "      <td>0.027432</td>\n",
              "      <td>-0.185639</td>\n",
              "      <td>-0.031086</td>\n",
              "      <td>1</td>\n",
              "    </tr>\n",
              "    <tr>\n",
              "      <th>1</th>\n",
              "      <td>0.001405</td>\n",
              "      <td>-0.126600</td>\n",
              "      <td>-0.027775</td>\n",
              "      <td>-0.000543</td>\n",
              "      <td>-0.044432</td>\n",
              "      <td>-0.118957</td>\n",
              "      <td>-0.108058</td>\n",
              "      <td>-0.031086</td>\n",
              "      <td>0</td>\n",
              "    </tr>\n",
              "    <tr>\n",
              "      <th>2</th>\n",
              "      <td>0.117044</td>\n",
              "      <td>0.114827</td>\n",
              "      <td>-0.027775</td>\n",
              "      <td>-0.000543</td>\n",
              "      <td>0.103682</td>\n",
              "      <td>0.027432</td>\n",
              "      <td>0.101850</td>\n",
              "      <td>-0.031086</td>\n",
              "      <td>1</td>\n",
              "    </tr>\n",
              "    <tr>\n",
              "      <th>3</th>\n",
              "      <td>0.117044</td>\n",
              "      <td>0.114827</td>\n",
              "      <td>-0.027775</td>\n",
              "      <td>-0.000543</td>\n",
              "      <td>-0.019041</td>\n",
              "      <td>0.027432</td>\n",
              "      <td>-0.108058</td>\n",
              "      <td>-0.031086</td>\n",
              "      <td>0</td>\n",
              "    </tr>\n",
              "    <tr>\n",
              "      <th>4</th>\n",
              "      <td>-0.264164</td>\n",
              "      <td>0.114827</td>\n",
              "      <td>-0.027775</td>\n",
              "      <td>-0.000543</td>\n",
              "      <td>-0.044432</td>\n",
              "      <td>0.006227</td>\n",
              "      <td>0.040048</td>\n",
              "      <td>-0.187355</td>\n",
              "      <td>0</td>\n",
              "    </tr>\n",
              "  </tbody>\n",
              "</table>\n",
              "</div>"
            ],
            "text/plain": [
              "        age  marital_status  dependents  ...  area_study  annual_income  target\n",
              "0 -0.071008        0.114827   -0.027775  ...   -0.185639      -0.031086       1\n",
              "1  0.001405       -0.126600   -0.027775  ...   -0.108058      -0.031086       0\n",
              "2  0.117044        0.114827   -0.027775  ...    0.101850      -0.031086       1\n",
              "3  0.117044        0.114827   -0.027775  ...   -0.108058      -0.031086       0\n",
              "4 -0.264164        0.114827   -0.027775  ...    0.040048      -0.187355       0\n",
              "\n",
              "[5 rows x 9 columns]"
            ]
          },
          "metadata": {
            "tags": []
          },
          "execution_count": 41
        }
      ]
    },
    {
      "cell_type": "code",
      "metadata": {
        "id": "gE9Lem66uDiR",
        "colab_type": "code",
        "colab": {}
      },
      "source": [
        "X = final_df.drop('target', 1)\n",
        "y = final_df.target"
      ],
      "execution_count": 0,
      "outputs": []
    },
    {
      "cell_type": "code",
      "metadata": {
        "id": "v5uPs73AU43d",
        "colab_type": "code",
        "colab": {}
      },
      "source": [
        "#Splitting the data into 80:20 ratio of training and testing data\n",
        "X_train, X_test, y_train, y_test = train_test_split(X, y, test_size = 0.2, random_state = 0)"
      ],
      "execution_count": 0,
      "outputs": []
    },
    {
      "cell_type": "markdown",
      "metadata": {
        "id": "HBwklc3K1XQB",
        "colab_type": "text"
      },
      "source": [
        "##Model Training - Using Logistic Regression\n",
        "\n",
        "It is standard and perhaps the most common practice to use Logisctic Regression at this stage of model developement.\n",
        "\n",
        "![alt text](https://github.com/joshi98kishan/Alternative-Data-Credit-Scoring-Model/blob/master/images/logistic-regression-formula.PNG?raw=true)"
      ]
    },
    {
      "cell_type": "code",
      "metadata": {
        "id": "Ly9NAm6j8-Mh",
        "colab_type": "code",
        "outputId": "d12dea7d-9657-4c98-bf16-fe392541ab80",
        "colab": {
          "base_uri": "https://localhost:8080/",
          "height": 154
        }
      },
      "source": [
        "# Using Logistic Regression\n",
        "\n",
        "model = LogisticRegression()\n",
        "model.fit(X_train, y_train)"
      ],
      "execution_count": 0,
      "outputs": [
        {
          "output_type": "stream",
          "text": [
            "/usr/local/lib/python3.6/dist-packages/sklearn/linear_model/logistic.py:432: FutureWarning: Default solver will be changed to 'lbfgs' in 0.22. Specify a solver to silence this warning.\n",
            "  FutureWarning)\n"
          ],
          "name": "stderr"
        },
        {
          "output_type": "execute_result",
          "data": {
            "text/plain": [
              "LogisticRegression(C=1.0, class_weight=None, dual=False, fit_intercept=True,\n",
              "                   intercept_scaling=1, l1_ratio=None, max_iter=100,\n",
              "                   multi_class='warn', n_jobs=None, penalty='l2',\n",
              "                   random_state=None, solver='warn', tol=0.0001, verbose=0,\n",
              "                   warm_start=False)"
            ]
          },
          "metadata": {
            "tags": []
          },
          "execution_count": 44
        }
      ]
    },
    {
      "cell_type": "code",
      "metadata": {
        "id": "wx6mJHLv1lt0",
        "colab_type": "code",
        "colab": {}
      },
      "source": [
        "coefficients = model.coef_.reshape(-1, 1)\n",
        "intercept = model.intercept_[0]"
      ],
      "execution_count": 0,
      "outputs": []
    },
    {
      "cell_type": "code",
      "metadata": {
        "id": "ny3yYR4agMzT",
        "colab_type": "code",
        "outputId": "1f376e0a-f155-4ae0-8314-aa0317b2a489",
        "colab": {
          "base_uri": "https://localhost:8080/",
          "height": 34
        }
      },
      "source": [
        "model.score(X_test, y_test)"
      ],
      "execution_count": 0,
      "outputs": [
        {
          "output_type": "execute_result",
          "data": {
            "text/plain": [
              "0.47"
            ]
          },
          "metadata": {
            "tags": []
          },
          "execution_count": 46
        }
      ]
    },
    {
      "cell_type": "markdown",
      "metadata": {
        "id": "saNBW40L1Djj",
        "colab_type": "text"
      },
      "source": [
        "##Scorcard Scaling\n",
        "Scaling increases the understandability of scorecard to the non-experts.\n",
        "It is used to get the score from the output of a predictive classifier, here Logistic Regression.\n",
        "\n",
        "Output of a binary logistic regression is a probability of class membership.So, this probability will be converted to a score.\n",
        "\n",
        "![alt text](https://github.com/joshi98kishan/Alternative-Data-Credit-Scoring-Model/blob/master/images/score_formula.PNG?raw=true)\n",
        "\n",
        "    ln(odds) is a output of a logistic regression.\n",
        "\n",
        "\n",
        "![alt text](https://github.com/joshi98kishan/Alternative-Data-Credit-Scoring-Model/blob/master/images/factor_formula.PNG?raw=true)\n",
        "\n",
        "    The factor represents the number of points, y, required for the odds to increase by some specified multiple, m.\n",
        "    For example, as it is common for the odds to double every 20 points, then the factor is,\n",
        "\n",
        "    Factor = 20 / ln(2) = 28.85\n",
        "\n",
        "\n",
        "![alt text](https://github.com/joshi98kishan/Alternative-Data-Credit-Scoring-Model/blob/master/images/offset_formula.PNG?raw=true)\n",
        "\n",
        "\n",
        "    The offset is a base point b at which some specified odds of 30:1 at 200 points is calculated as:\n",
        "    \n",
        "    Offset = 200 − (28.85 ∗ ln (30)) = 101.88\n"
      ]
    },
    {
      "cell_type": "code",
      "metadata": {
        "id": "1xqf6UqWAii9",
        "colab_type": "code",
        "colab": {}
      },
      "source": [
        "sample = X_test.iloc[0].values.reshape(1, -1)\n",
        "ln_odds = np.dot(sample, coefficients) + intercept\n",
        "ln_odds = ln_odds[0][0]"
      ],
      "execution_count": 0,
      "outputs": []
    },
    {
      "cell_type": "code",
      "metadata": {
        "id": "kNvZMiwq1E1C",
        "colab_type": "code",
        "outputId": "8b6d96c1-0df3-4d32-e7f1-e4f3b24995ef",
        "colab": {
          "base_uri": "https://localhost:8080/",
          "height": 34
        }
      },
      "source": [
        "# The score for each set of features can be calculated:\n",
        "score = 101.88 + 28.85 * ln_odds\n",
        "score"
      ],
      "execution_count": 0,
      "outputs": [
        {
          "output_type": "execute_result",
          "data": {
            "text/plain": [
              "100.12284799745635"
            ]
          },
          "metadata": {
            "tags": []
          },
          "execution_count": 87
        }
      ]
    },
    {
      "cell_type": "code",
      "metadata": {
        "id": "f8qekjyGWjRw",
        "colab_type": "code",
        "colab": {}
      },
      "source": [
        ""
      ],
      "execution_count": 0,
      "outputs": []
    }
  ]
}